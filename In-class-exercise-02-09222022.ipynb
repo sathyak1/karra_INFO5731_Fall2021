{
 "cells": [
  {
   "cell_type": "markdown",
   "metadata": {},
   "source": [
    "## The second In-class-exercise (09/22/2022, 40 points in total)"
   ]
  },
  {
   "cell_type": "markdown",
   "metadata": {},
   "source": [
    "The purpose of this exercise is to understand users' information needs, then collect data from different sources for analysis."
   ]
  },
  {
   "cell_type": "markdown",
   "metadata": {},
   "source": [
    "Question 1 (10 points): Describe an interesting research question (or practical question) you have in mind, what kind of data should be collected to answer the question(s)? How many data needed for the analysis? The detail steps for collecting and save the data. "
   ]
  },
  {
   "cell_type": "code",
   "execution_count": 1,
   "metadata": {},
   "outputs": [
    {
     "data": {
      "text/plain": [
       "'\\nPlease write you answer here:\\nI am interested to know how the bitcoin works. The block chain technology is used to create bicoin which is more secure.\\nBitcoin is used as digital currency which dosent have physical form which are stored in addrsses\\nI need to collect \"minining bitcoin\" publishes from google scholor or any other websites to know about bitcoin.\\nI will use the scholarly module in python which is an open source module used to scrape google scholor.\\ni need atleast 100 published papers for research.\\nscholarly will directly give the papersauthor cites and other data\\n\\n'"
      ]
     },
     "execution_count": 1,
     "metadata": {},
     "output_type": "execute_result"
    }
   ],
   "source": [
    "# Your answer here (no code for this question, write down your answer as detail as possible for the above questions):\n",
    "\n",
    "'''\n",
    "Please write you answer here:\n",
    "I am interested to know how the bitcoin works. The block chain technology is used to create bicoin which is more secure.\n",
    "Bitcoin is used as digital currency which dosent have physical form which are stored in addrsses\n",
    "I need to collect \"minining bitcoin\" publishes from google scholor or any other websites to know about bitcoin.\n",
    "I will use the scholarly module in python which is an open source module used to scrape google scholor.\n",
    "i need atleast 100 published papers for research.\n",
    "scholarly will directly give the papersauthor cites and other data\n",
    "\n",
    "'''"
   ]
  },
  {
   "cell_type": "markdown",
   "metadata": {},
   "source": [
    "Question 2 (10 points): Write python code to collect 1000 data samples you discussed above."
   ]
  },
  {
   "cell_type": "code",
   "execution_count": 6,
   "metadata": {},
   "outputs": [
    {
     "name": "stdout",
     "output_type": "stream",
     "text": [
      "b\"{'affiliation': 'CREATOR OF BITCOIN AND CRYPTOCURRENCY',\\n 'citedby': 46041,\\n 'email_domain': '',\\n 'filled': False,\\n 'interests': ['BITCOIN'],\\n 'name': 'Satoshi Nakamoto(Radizero)',\\n 'scholar_id': 'HM4m1awAAAAJ',\\n 'source': 'SEARCH_AUTHOR_SNIPPETS',\\n 'url_picture': 'https://scholar.google.com/citations?view_op=medium_photo&user=HM4m1awAAAAJ'}\"\n",
      "b\"{'affiliation': 'CREATOR OF BITCOIN AND CRYPTOCURRENCY',\\n 'citedby': 46041,\\n 'email_domain': '',\\n 'filled': False,\\n 'interests': ['BITCOIN'],\\n 'name': 'Satoshi Nakamoto(Radizero)',\\n 'scholar_id': 'HM4m1awAAAAJ',\\n 'source': 'SEARCH_AUTHOR_SNIPPETS',\\n 'url_picture': 'https://scholar.google.com/citations?view_op=medium_photo&user=HM4m1awAAAAJ'}\"\n",
      "b\"{'affiliation': 'CREATOR OF BITCOIN AND CRYPTOCURRENCY',\\n 'citedby': 46041,\\n 'email_domain': '',\\n 'filled': False,\\n 'interests': ['BITCOIN'],\\n 'name': 'Satoshi Nakamoto(Radizero)',\\n 'scholar_id': 'HM4m1awAAAAJ',\\n 'source': 'SEARCH_AUTHOR_SNIPPETS',\\n 'url_picture': 'https://scholar.google.com/citations?view_op=medium_photo&user=HM4m1awAAAAJ'}\"\n",
      "b\"{'affiliation': 'CREATOR OF BITCOIN AND CRYPTOCURRENCY',\\n 'citedby': 46041,\\n 'email_domain': '',\\n 'filled': False,\\n 'interests': ['BITCOIN'],\\n 'name': 'Satoshi Nakamoto(Radizero)',\\n 'scholar_id': 'HM4m1awAAAAJ',\\n 'source': 'SEARCH_AUTHOR_SNIPPETS',\\n 'url_picture': 'https://scholar.google.com/citations?view_op=medium_photo&user=HM4m1awAAAAJ'}\"\n",
      "b\"{'affiliation': 'CREATOR OF BITCOIN AND CRYPTOCURRENCY',\\n 'citedby': 46041,\\n 'email_domain': '',\\n 'filled': False,\\n 'interests': ['BITCOIN'],\\n 'name': 'Satoshi Nakamoto(Radizero)',\\n 'scholar_id': 'HM4m1awAAAAJ',\\n 'source': 'SEARCH_AUTHOR_SNIPPETS',\\n 'url_picture': 'https://scholar.google.com/citations?view_op=medium_photo&user=HM4m1awAAAAJ'}\"\n",
      "b\"{'affiliation': 'CREATOR OF BITCOIN AND CRYPTOCURRENCY',\\n 'citedby': 46041,\\n 'email_domain': '',\\n 'filled': False,\\n 'interests': ['BITCOIN'],\\n 'name': 'Satoshi Nakamoto(Radizero)',\\n 'scholar_id': 'HM4m1awAAAAJ',\\n 'source': 'SEARCH_AUTHOR_SNIPPETS',\\n 'url_picture': 'https://scholar.google.com/citations?view_op=medium_photo&user=HM4m1awAAAAJ'}\"\n",
      "b\"{'affiliation': 'CREATOR OF BITCOIN AND CRYPTOCURRENCY',\\n 'citedby': 46041,\\n 'email_domain': '',\\n 'filled': False,\\n 'interests': ['BITCOIN'],\\n 'name': 'Satoshi Nakamoto(Radizero)',\\n 'scholar_id': 'HM4m1awAAAAJ',\\n 'source': 'SEARCH_AUTHOR_SNIPPETS',\\n 'url_picture': 'https://scholar.google.com/citations?view_op=medium_photo&user=HM4m1awAAAAJ'}\"\n",
      "b\"{'affiliation': 'CREATOR OF BITCOIN AND CRYPTOCURRENCY',\\n 'citedby': 46041,\\n 'email_domain': '',\\n 'filled': False,\\n 'interests': ['BITCOIN'],\\n 'name': 'Satoshi Nakamoto(Radizero)',\\n 'scholar_id': 'HM4m1awAAAAJ',\\n 'source': 'SEARCH_AUTHOR_SNIPPETS',\\n 'url_picture': 'https://scholar.google.com/citations?view_op=medium_photo&user=HM4m1awAAAAJ'}\"\n",
      "b\"{'affiliation': 'CREATOR OF BITCOIN AND CRYPTOCURRENCY',\\n 'citedby': 46041,\\n 'email_domain': '',\\n 'filled': False,\\n 'interests': ['BITCOIN'],\\n 'name': 'Satoshi Nakamoto(Radizero)',\\n 'scholar_id': 'HM4m1awAAAAJ',\\n 'source': 'SEARCH_AUTHOR_SNIPPETS',\\n 'url_picture': 'https://scholar.google.com/citations?view_op=medium_photo&user=HM4m1awAAAAJ'}\"\n",
      "b\"{'affiliation': 'CREATOR OF BITCOIN AND CRYPTOCURRENCY',\\n 'citedby': 46041,\\n 'email_domain': '',\\n 'filled': False,\\n 'interests': ['BITCOIN'],\\n 'name': 'Satoshi Nakamoto(Radizero)',\\n 'scholar_id': 'HM4m1awAAAAJ',\\n 'source': 'SEARCH_AUTHOR_SNIPPETS',\\n 'url_picture': 'https://scholar.google.com/citations?view_op=medium_photo&user=HM4m1awAAAAJ'}\"\n",
      "b\"{'affiliation': 'CREATOR OF BITCOIN AND CRYPTOCURRENCY',\\n 'citedby': 46041,\\n 'email_domain': '',\\n 'filled': False,\\n 'interests': ['BITCOIN'],\\n 'name': 'Satoshi Nakamoto(Radizero)',\\n 'scholar_id': 'HM4m1awAAAAJ',\\n 'source': 'SEARCH_AUTHOR_SNIPPETS',\\n 'url_picture': 'https://scholar.google.com/citations?view_op=medium_photo&user=HM4m1awAAAAJ'}\"\n",
      "b\"{'affiliation': 'CREATOR OF BITCOIN AND CRYPTOCURRENCY',\\n 'citedby': 46041,\\n 'email_domain': '',\\n 'filled': False,\\n 'interests': ['BITCOIN'],\\n 'name': 'Satoshi Nakamoto(Radizero)',\\n 'scholar_id': 'HM4m1awAAAAJ',\\n 'source': 'SEARCH_AUTHOR_SNIPPETS',\\n 'url_picture': 'https://scholar.google.com/citations?view_op=medium_photo&user=HM4m1awAAAAJ'}\"\n",
      "b\"{'affiliation': 'CREATOR OF BITCOIN AND CRYPTOCURRENCY',\\n 'citedby': 46041,\\n 'email_domain': '',\\n 'filled': False,\\n 'interests': ['BITCOIN'],\\n 'name': 'Satoshi Nakamoto(Radizero)',\\n 'scholar_id': 'HM4m1awAAAAJ',\\n 'source': 'SEARCH_AUTHOR_SNIPPETS',\\n 'url_picture': 'https://scholar.google.com/citations?view_op=medium_photo&user=HM4m1awAAAAJ'}\"\n",
      "b\"{'affiliation': 'CREATOR OF BITCOIN AND CRYPTOCURRENCY',\\n 'citedby': 46041,\\n 'email_domain': '',\\n 'filled': False,\\n 'interests': ['BITCOIN'],\\n 'name': 'Satoshi Nakamoto(Radizero)',\\n 'scholar_id': 'HM4m1awAAAAJ',\\n 'source': 'SEARCH_AUTHOR_SNIPPETS',\\n 'url_picture': 'https://scholar.google.com/citations?view_op=medium_photo&user=HM4m1awAAAAJ'}\"\n",
      "b\"{'affiliation': 'CREATOR OF BITCOIN AND CRYPTOCURRENCY',\\n 'citedby': 46041,\\n 'email_domain': '',\\n 'filled': False,\\n 'interests': ['BITCOIN'],\\n 'name': 'Satoshi Nakamoto(Radizero)',\\n 'scholar_id': 'HM4m1awAAAAJ',\\n 'source': 'SEARCH_AUTHOR_SNIPPETS',\\n 'url_picture': 'https://scholar.google.com/citations?view_op=medium_photo&user=HM4m1awAAAAJ'}\"\n",
      "b\"{'affiliation': 'CREATOR OF BITCOIN AND CRYPTOCURRENCY',\\n 'citedby': 46041,\\n 'email_domain': '',\\n 'filled': False,\\n 'interests': ['BITCOIN'],\\n 'name': 'Satoshi Nakamoto(Radizero)',\\n 'scholar_id': 'HM4m1awAAAAJ',\\n 'source': 'SEARCH_AUTHOR_SNIPPETS',\\n 'url_picture': 'https://scholar.google.com/citations?view_op=medium_photo&user=HM4m1awAAAAJ'}\"\n",
      "b\"{'affiliation': 'CREATOR OF BITCOIN AND CRYPTOCURRENCY',\\n 'citedby': 46041,\\n 'email_domain': '',\\n 'filled': False,\\n 'interests': ['BITCOIN'],\\n 'name': 'Satoshi Nakamoto(Radizero)',\\n 'scholar_id': 'HM4m1awAAAAJ',\\n 'source': 'SEARCH_AUTHOR_SNIPPETS',\\n 'url_picture': 'https://scholar.google.com/citations?view_op=medium_photo&user=HM4m1awAAAAJ'}\"\n",
      "b\"{'affiliation': 'CREATOR OF BITCOIN AND CRYPTOCURRENCY',\\n 'citedby': 46041,\\n 'email_domain': '',\\n 'filled': False,\\n 'interests': ['BITCOIN'],\\n 'name': 'Satoshi Nakamoto(Radizero)',\\n 'scholar_id': 'HM4m1awAAAAJ',\\n 'source': 'SEARCH_AUTHOR_SNIPPETS',\\n 'url_picture': 'https://scholar.google.com/citations?view_op=medium_photo&user=HM4m1awAAAAJ'}\"\n",
      "b\"{'affiliation': 'CREATOR OF BITCOIN AND CRYPTOCURRENCY',\\n 'citedby': 46041,\\n 'email_domain': '',\\n 'filled': False,\\n 'interests': ['BITCOIN'],\\n 'name': 'Satoshi Nakamoto(Radizero)',\\n 'scholar_id': 'HM4m1awAAAAJ',\\n 'source': 'SEARCH_AUTHOR_SNIPPETS',\\n 'url_picture': 'https://scholar.google.com/citations?view_op=medium_photo&user=HM4m1awAAAAJ'}\"\n",
      "b\"{'affiliation': 'CREATOR OF BITCOIN AND CRYPTOCURRENCY',\\n 'citedby': 46041,\\n 'email_domain': '',\\n 'filled': False,\\n 'interests': ['BITCOIN'],\\n 'name': 'Satoshi Nakamoto(Radizero)',\\n 'scholar_id': 'HM4m1awAAAAJ',\\n 'source': 'SEARCH_AUTHOR_SNIPPETS',\\n 'url_picture': 'https://scholar.google.com/citations?view_op=medium_photo&user=HM4m1awAAAAJ'}\"\n",
      "b\"{'affiliation': 'CREATOR OF BITCOIN AND CRYPTOCURRENCY',\\n 'citedby': 46041,\\n 'email_domain': '',\\n 'filled': False,\\n 'interests': ['BITCOIN'],\\n 'name': 'Satoshi Nakamoto(Radizero)',\\n 'scholar_id': 'HM4m1awAAAAJ',\\n 'source': 'SEARCH_AUTHOR_SNIPPETS',\\n 'url_picture': 'https://scholar.google.com/citations?view_op=medium_photo&user=HM4m1awAAAAJ'}\"\n",
      "b\"{'affiliation': 'CREATOR OF BITCOIN AND CRYPTOCURRENCY',\\n 'citedby': 46041,\\n 'email_domain': '',\\n 'filled': False,\\n 'interests': ['BITCOIN'],\\n 'name': 'Satoshi Nakamoto(Radizero)',\\n 'scholar_id': 'HM4m1awAAAAJ',\\n 'source': 'SEARCH_AUTHOR_SNIPPETS',\\n 'url_picture': 'https://scholar.google.com/citations?view_op=medium_photo&user=HM4m1awAAAAJ'}\"\n",
      "b\"{'affiliation': 'CREATOR OF BITCOIN AND CRYPTOCURRENCY',\\n 'citedby': 46041,\\n 'email_domain': '',\\n 'filled': False,\\n 'interests': ['BITCOIN'],\\n 'name': 'Satoshi Nakamoto(Radizero)',\\n 'scholar_id': 'HM4m1awAAAAJ',\\n 'source': 'SEARCH_AUTHOR_SNIPPETS',\\n 'url_picture': 'https://scholar.google.com/citations?view_op=medium_photo&user=HM4m1awAAAAJ'}\"\n",
      "b\"{'affiliation': 'CREATOR OF BITCOIN AND CRYPTOCURRENCY',\\n 'citedby': 46041,\\n 'email_domain': '',\\n 'filled': False,\\n 'interests': ['BITCOIN'],\\n 'name': 'Satoshi Nakamoto(Radizero)',\\n 'scholar_id': 'HM4m1awAAAAJ',\\n 'source': 'SEARCH_AUTHOR_SNIPPETS',\\n 'url_picture': 'https://scholar.google.com/citations?view_op=medium_photo&user=HM4m1awAAAAJ'}\"\n"
     ]
    },
    {
     "name": "stdout",
     "output_type": "stream",
     "text": [
      "b\"{'affiliation': 'CREATOR OF BITCOIN AND CRYPTOCURRENCY',\\n 'citedby': 46041,\\n 'email_domain': '',\\n 'filled': False,\\n 'interests': ['BITCOIN'],\\n 'name': 'Satoshi Nakamoto(Radizero)',\\n 'scholar_id': 'HM4m1awAAAAJ',\\n 'source': 'SEARCH_AUTHOR_SNIPPETS',\\n 'url_picture': 'https://scholar.google.com/citations?view_op=medium_photo&user=HM4m1awAAAAJ'}\"\n",
      "b\"{'affiliation': 'CREATOR OF BITCOIN AND CRYPTOCURRENCY',\\n 'citedby': 46041,\\n 'email_domain': '',\\n 'filled': False,\\n 'interests': ['BITCOIN'],\\n 'name': 'Satoshi Nakamoto(Radizero)',\\n 'scholar_id': 'HM4m1awAAAAJ',\\n 'source': 'SEARCH_AUTHOR_SNIPPETS',\\n 'url_picture': 'https://scholar.google.com/citations?view_op=medium_photo&user=HM4m1awAAAAJ'}\"\n",
      "b\"{'affiliation': 'CREATOR OF BITCOIN AND CRYPTOCURRENCY',\\n 'citedby': 46041,\\n 'email_domain': '',\\n 'filled': False,\\n 'interests': ['BITCOIN'],\\n 'name': 'Satoshi Nakamoto(Radizero)',\\n 'scholar_id': 'HM4m1awAAAAJ',\\n 'source': 'SEARCH_AUTHOR_SNIPPETS',\\n 'url_picture': 'https://scholar.google.com/citations?view_op=medium_photo&user=HM4m1awAAAAJ'}\"\n",
      "b\"{'affiliation': 'CREATOR OF BITCOIN AND CRYPTOCURRENCY',\\n 'citedby': 46041,\\n 'email_domain': '',\\n 'filled': False,\\n 'interests': ['BITCOIN'],\\n 'name': 'Satoshi Nakamoto(Radizero)',\\n 'scholar_id': 'HM4m1awAAAAJ',\\n 'source': 'SEARCH_AUTHOR_SNIPPETS',\\n 'url_picture': 'https://scholar.google.com/citations?view_op=medium_photo&user=HM4m1awAAAAJ'}\"\n",
      "b\"{'affiliation': 'CREATOR OF BITCOIN AND CRYPTOCURRENCY',\\n 'citedby': 46041,\\n 'email_domain': '',\\n 'filled': False,\\n 'interests': ['BITCOIN'],\\n 'name': 'Satoshi Nakamoto(Radizero)',\\n 'scholar_id': 'HM4m1awAAAAJ',\\n 'source': 'SEARCH_AUTHOR_SNIPPETS',\\n 'url_picture': 'https://scholar.google.com/citations?view_op=medium_photo&user=HM4m1awAAAAJ'}\"\n",
      "b\"{'affiliation': 'CREATOR OF BITCOIN AND CRYPTOCURRENCY',\\n 'citedby': 46041,\\n 'email_domain': '',\\n 'filled': False,\\n 'interests': ['BITCOIN'],\\n 'name': 'Satoshi Nakamoto(Radizero)',\\n 'scholar_id': 'HM4m1awAAAAJ',\\n 'source': 'SEARCH_AUTHOR_SNIPPETS',\\n 'url_picture': 'https://scholar.google.com/citations?view_op=medium_photo&user=HM4m1awAAAAJ'}\"\n",
      "b\"{'affiliation': 'CREATOR OF BITCOIN AND CRYPTOCURRENCY',\\n 'citedby': 46041,\\n 'email_domain': '',\\n 'filled': False,\\n 'interests': ['BITCOIN'],\\n 'name': 'Satoshi Nakamoto(Radizero)',\\n 'scholar_id': 'HM4m1awAAAAJ',\\n 'source': 'SEARCH_AUTHOR_SNIPPETS',\\n 'url_picture': 'https://scholar.google.com/citations?view_op=medium_photo&user=HM4m1awAAAAJ'}\"\n",
      "b\"{'affiliation': 'CREATOR OF BITCOIN AND CRYPTOCURRENCY',\\n 'citedby': 46041,\\n 'email_domain': '',\\n 'filled': False,\\n 'interests': ['BITCOIN'],\\n 'name': 'Satoshi Nakamoto(Radizero)',\\n 'scholar_id': 'HM4m1awAAAAJ',\\n 'source': 'SEARCH_AUTHOR_SNIPPETS',\\n 'url_picture': 'https://scholar.google.com/citations?view_op=medium_photo&user=HM4m1awAAAAJ'}\"\n",
      "b\"{'affiliation': 'CREATOR OF BITCOIN AND CRYPTOCURRENCY',\\n 'citedby': 46041,\\n 'email_domain': '',\\n 'filled': False,\\n 'interests': ['BITCOIN'],\\n 'name': 'Satoshi Nakamoto(Radizero)',\\n 'scholar_id': 'HM4m1awAAAAJ',\\n 'source': 'SEARCH_AUTHOR_SNIPPETS',\\n 'url_picture': 'https://scholar.google.com/citations?view_op=medium_photo&user=HM4m1awAAAAJ'}\"\n"
     ]
    },
    {
     "ename": "KeyboardInterrupt",
     "evalue": "",
     "output_type": "error",
     "traceback": [
      "\u001b[1;31m---------------------------------------------------------------------------\u001b[0m",
      "\u001b[1;31mKeyboardInterrupt\u001b[0m                         Traceback (most recent call last)",
      "\u001b[1;32m~\\AppData\\Local\\Temp\\ipykernel_8436\\746356116.py\u001b[0m in \u001b[0;36m<module>\u001b[1;34m\u001b[0m\n\u001b[0;32m      7\u001b[0m \u001b[1;32mfor\u001b[0m \u001b[0mi\u001b[0m \u001b[1;32min\u001b[0m \u001b[0mrange\u001b[0m\u001b[1;33m(\u001b[0m\u001b[1;36m1000\u001b[0m\u001b[1;33m)\u001b[0m\u001b[1;33m:\u001b[0m\u001b[1;33m\u001b[0m\u001b[1;33m\u001b[0m\u001b[0m\n\u001b[0;32m      8\u001b[0m     \u001b[0msearch_query\u001b[0m \u001b[1;33m=\u001b[0m \u001b[0mscholarly\u001b[0m\u001b[1;33m.\u001b[0m\u001b[0msearch_author\u001b[0m\u001b[1;33m(\u001b[0m\u001b[1;34m'crypto currency'\u001b[0m\u001b[1;33m)\u001b[0m\u001b[1;33m\u001b[0m\u001b[1;33m\u001b[0m\u001b[0m\n\u001b[1;32m----> 9\u001b[1;33m     \u001b[0mfirst_author_result\u001b[0m \u001b[1;33m=\u001b[0m \u001b[0mnext\u001b[0m\u001b[1;33m(\u001b[0m\u001b[0msearch_query\u001b[0m\u001b[1;33m)\u001b[0m\u001b[1;33m\u001b[0m\u001b[1;33m\u001b[0m\u001b[0m\n\u001b[0m\u001b[0;32m     10\u001b[0m     \u001b[0mscholarly\u001b[0m\u001b[1;33m.\u001b[0m\u001b[0mpprint\u001b[0m\u001b[1;33m(\u001b[0m\u001b[0mfirst_author_result\u001b[0m\u001b[1;33m)\u001b[0m\u001b[1;33m\u001b[0m\u001b[1;33m\u001b[0m\u001b[0m\n",
      "\u001b[1;32m~\\Anaconda3\\lib\\site-packages\\scholarly\\_navigator.py\u001b[0m in \u001b[0;36msearch_authors\u001b[1;34m(self, url)\u001b[0m\n\u001b[0;32m    235\u001b[0m     \u001b[1;32mdef\u001b[0m \u001b[0msearch_authors\u001b[0m\u001b[1;33m(\u001b[0m\u001b[0mself\u001b[0m\u001b[1;33m,\u001b[0m \u001b[0murl\u001b[0m\u001b[1;33m:\u001b[0m \u001b[0mstr\u001b[0m\u001b[1;33m)\u001b[0m\u001b[1;33m->\u001b[0m\u001b[0mAuthor\u001b[0m\u001b[1;33m:\u001b[0m\u001b[1;33m\u001b[0m\u001b[1;33m\u001b[0m\u001b[0m\n\u001b[0;32m    236\u001b[0m         \u001b[1;34m\"\"\"Generator that returns Author objects from the author search page\"\"\"\u001b[0m\u001b[1;33m\u001b[0m\u001b[1;33m\u001b[0m\u001b[0m\n\u001b[1;32m--> 237\u001b[1;33m         \u001b[0msoup\u001b[0m \u001b[1;33m=\u001b[0m \u001b[0mself\u001b[0m\u001b[1;33m.\u001b[0m\u001b[0m_get_soup\u001b[0m\u001b[1;33m(\u001b[0m\u001b[0murl\u001b[0m\u001b[1;33m)\u001b[0m\u001b[1;33m\u001b[0m\u001b[1;33m\u001b[0m\u001b[0m\n\u001b[0m\u001b[0;32m    238\u001b[0m \u001b[1;33m\u001b[0m\u001b[0m\n\u001b[0;32m    239\u001b[0m         \u001b[0mauthor_parser\u001b[0m \u001b[1;33m=\u001b[0m \u001b[0mAuthorParser\u001b[0m\u001b[1;33m(\u001b[0m\u001b[0mself\u001b[0m\u001b[1;33m)\u001b[0m\u001b[1;33m\u001b[0m\u001b[1;33m\u001b[0m\u001b[0m\n",
      "\u001b[1;32m~\\Anaconda3\\lib\\site-packages\\scholarly\\_navigator.py\u001b[0m in \u001b[0;36m_get_soup\u001b[1;34m(self, url)\u001b[0m\n\u001b[0;32m    224\u001b[0m     \u001b[1;32mdef\u001b[0m \u001b[0m_get_soup\u001b[0m\u001b[1;33m(\u001b[0m\u001b[0mself\u001b[0m\u001b[1;33m,\u001b[0m \u001b[0murl\u001b[0m\u001b[1;33m:\u001b[0m \u001b[0mstr\u001b[0m\u001b[1;33m)\u001b[0m \u001b[1;33m->\u001b[0m \u001b[0mBeautifulSoup\u001b[0m\u001b[1;33m:\u001b[0m\u001b[1;33m\u001b[0m\u001b[1;33m\u001b[0m\u001b[0m\n\u001b[0;32m    225\u001b[0m         \u001b[1;34m\"\"\"Return the BeautifulSoup for a page on scholar.google.com\"\"\"\u001b[0m\u001b[1;33m\u001b[0m\u001b[1;33m\u001b[0m\u001b[0m\n\u001b[1;32m--> 226\u001b[1;33m         \u001b[0mhtml\u001b[0m \u001b[1;33m=\u001b[0m \u001b[0mself\u001b[0m\u001b[1;33m.\u001b[0m\u001b[0m_get_page\u001b[0m\u001b[1;33m(\u001b[0m\u001b[1;34m'https://scholar.google.com{0}'\u001b[0m\u001b[1;33m.\u001b[0m\u001b[0mformat\u001b[0m\u001b[1;33m(\u001b[0m\u001b[0murl\u001b[0m\u001b[1;33m)\u001b[0m\u001b[1;33m)\u001b[0m\u001b[1;33m\u001b[0m\u001b[1;33m\u001b[0m\u001b[0m\n\u001b[0m\u001b[0;32m    227\u001b[0m         \u001b[0mhtml\u001b[0m \u001b[1;33m=\u001b[0m \u001b[0mhtml\u001b[0m\u001b[1;33m.\u001b[0m\u001b[0mreplace\u001b[0m\u001b[1;33m(\u001b[0m\u001b[1;34mu'\\xa0'\u001b[0m\u001b[1;33m,\u001b[0m \u001b[1;34mu' '\u001b[0m\u001b[1;33m)\u001b[0m\u001b[1;33m\u001b[0m\u001b[1;33m\u001b[0m\u001b[0m\n\u001b[0;32m    228\u001b[0m         \u001b[0mres\u001b[0m \u001b[1;33m=\u001b[0m \u001b[0mBeautifulSoup\u001b[0m\u001b[1;33m(\u001b[0m\u001b[0mhtml\u001b[0m\u001b[1;33m,\u001b[0m \u001b[1;34m'html.parser'\u001b[0m\u001b[1;33m)\u001b[0m\u001b[1;33m\u001b[0m\u001b[1;33m\u001b[0m\u001b[0m\n",
      "\u001b[1;32m~\\Anaconda3\\lib\\site-packages\\scholarly\\_navigator.py\u001b[0m in \u001b[0;36m_get_page\u001b[1;34m(self, pagerequest, premium)\u001b[0m\n\u001b[0;32m    110\u001b[0m             \u001b[1;32mtry\u001b[0m\u001b[1;33m:\u001b[0m\u001b[1;33m\u001b[0m\u001b[1;33m\u001b[0m\u001b[0m\n\u001b[0;32m    111\u001b[0m                 \u001b[0mw\u001b[0m \u001b[1;33m=\u001b[0m \u001b[0mrandom\u001b[0m\u001b[1;33m.\u001b[0m\u001b[0muniform\u001b[0m\u001b[1;33m(\u001b[0m\u001b[1;36m1\u001b[0m\u001b[1;33m,\u001b[0m\u001b[1;36m2\u001b[0m\u001b[1;33m)\u001b[0m\u001b[1;33m\u001b[0m\u001b[1;33m\u001b[0m\u001b[0m\n\u001b[1;32m--> 112\u001b[1;33m                 \u001b[0mtime\u001b[0m\u001b[1;33m.\u001b[0m\u001b[0msleep\u001b[0m\u001b[1;33m(\u001b[0m\u001b[0mw\u001b[0m\u001b[1;33m)\u001b[0m\u001b[1;33m\u001b[0m\u001b[1;33m\u001b[0m\u001b[0m\n\u001b[0m\u001b[0;32m    113\u001b[0m                 \u001b[0mresp\u001b[0m \u001b[1;33m=\u001b[0m \u001b[0msession\u001b[0m\u001b[1;33m.\u001b[0m\u001b[0mget\u001b[0m\u001b[1;33m(\u001b[0m\u001b[0mpagerequest\u001b[0m\u001b[1;33m,\u001b[0m \u001b[0mtimeout\u001b[0m\u001b[1;33m=\u001b[0m\u001b[0mtimeout\u001b[0m\u001b[1;33m)\u001b[0m\u001b[1;33m\u001b[0m\u001b[1;33m\u001b[0m\u001b[0m\n\u001b[0;32m    114\u001b[0m                 \u001b[0mself\u001b[0m\u001b[1;33m.\u001b[0m\u001b[0mlogger\u001b[0m\u001b[1;33m.\u001b[0m\u001b[0mdebug\u001b[0m\u001b[1;33m(\u001b[0m\u001b[1;34m\"Session proxy config is {}\"\u001b[0m\u001b[1;33m.\u001b[0m\u001b[0mformat\u001b[0m\u001b[1;33m(\u001b[0m\u001b[0msession\u001b[0m\u001b[1;33m.\u001b[0m\u001b[0mproxies\u001b[0m\u001b[1;33m)\u001b[0m\u001b[1;33m)\u001b[0m\u001b[1;33m\u001b[0m\u001b[1;33m\u001b[0m\u001b[0m\n",
      "\u001b[1;31mKeyboardInterrupt\u001b[0m: "
     ]
    }
   ],
   "source": [
    "# You code here (Please add comments in the code):\n",
    "\n",
    "from scholarly import scholarly\n",
    "import requests\n",
    "from bs4 import BeautifulSoup\n",
    "Title = 'crypto currency'\n",
    "for i in range(1000):\n",
    "    search_query = scholarly.search_author('crypto currency')\n",
    "    first_author_result = next(search_query)\n",
    "    scholarly.pprint(first_author_result)"
   ]
  },
  {
   "cell_type": "markdown",
   "metadata": {},
   "source": [
    "Question 3 (10 points): Write python code to collect 1000 articles from Google Scholar (https://scholar.google.com/), Microsoft Academic (https://academic.microsoft.com/home), or CiteSeerX (https://citeseerx.ist.psu.edu/index), or Semantic Scholar (https://www.semanticscholar.org/), or ACM Digital Libraries (https://dl.acm.org/) with the keyword \"information retrieval\". The articles should be published in the last 10 years (2012-2022).\n",
    "\n",
    "The following information of the article needs to be collected:\n",
    "\n",
    "(1) Title\n",
    "\n",
    "(2) Venue/journal/conference being published\n",
    "\n",
    "(3) Year\n",
    "\n",
    "(4) Authors\n",
    "\n",
    "(5) Abstract"
   ]
  },
  {
   "cell_type": "code",
   "execution_count": 7,
   "metadata": {},
   "outputs": [
    {
     "name": "stdout",
     "output_type": "stream",
     "text": [
      "b\"{'affiliation': 'Professor of Information Seeking and Retrieval, University of '\\n                'Strathclyde',\\n 'citedby': 5665,\\n 'email_domain': '@strath.ac.uk',\\n 'filled': False,\\n 'interests': ['information seeking',\\n               'information behaviour',\\n               'information retrieval'],\\n 'name': 'Ian Ruthven',\\n 'scholar_id': 'BAJlvioAAAAJ',\\n 'source': 'SEARCH_AUTHOR_SNIPPETS',\\n 'url_picture': 'https://scholar.google.com/citations?view_op=medium_photo&user=BAJlvioAAAAJ'}\"\n",
      "b\"{'affiliation': 'Professor of Information Seeking and Retrieval, University of '\\n                'Strathclyde',\\n 'citedby': 5665,\\n 'email_domain': '@strath.ac.uk',\\n 'filled': False,\\n 'interests': ['information seeking',\\n               'information behaviour',\\n               'information retrieval'],\\n 'name': 'Ian Ruthven',\\n 'scholar_id': 'BAJlvioAAAAJ',\\n 'source': 'SEARCH_AUTHOR_SNIPPETS',\\n 'url_picture': 'https://scholar.google.com/citations?view_op=medium_photo&user=BAJlvioAAAAJ'}\"\n",
      "b\"{'affiliation': 'Professor of Information Seeking and Retrieval, University of '\\n                'Strathclyde',\\n 'citedby': 5665,\\n 'email_domain': '@strath.ac.uk',\\n 'filled': False,\\n 'interests': ['information seeking',\\n               'information behaviour',\\n               'information retrieval'],\\n 'name': 'Ian Ruthven',\\n 'scholar_id': 'BAJlvioAAAAJ',\\n 'source': 'SEARCH_AUTHOR_SNIPPETS',\\n 'url_picture': 'https://scholar.google.com/citations?view_op=medium_photo&user=BAJlvioAAAAJ'}\"\n",
      "b\"{'affiliation': 'Professor of Information Seeking and Retrieval, University of '\\n                'Strathclyde',\\n 'citedby': 5665,\\n 'email_domain': '@strath.ac.uk',\\n 'filled': False,\\n 'interests': ['information seeking',\\n               'information behaviour',\\n               'information retrieval'],\\n 'name': 'Ian Ruthven',\\n 'scholar_id': 'BAJlvioAAAAJ',\\n 'source': 'SEARCH_AUTHOR_SNIPPETS',\\n 'url_picture': 'https://scholar.google.com/citations?view_op=medium_photo&user=BAJlvioAAAAJ'}\"\n"
     ]
    },
    {
     "ename": "KeyboardInterrupt",
     "evalue": "",
     "output_type": "error",
     "traceback": [
      "\u001b[1;31m---------------------------------------------------------------------------\u001b[0m",
      "\u001b[1;31mKeyboardInterrupt\u001b[0m                         Traceback (most recent call last)",
      "\u001b[1;32m~\\AppData\\Local\\Temp\\ipykernel_8436\\687506564.py\u001b[0m in \u001b[0;36m<module>\u001b[1;34m\u001b[0m\n\u001b[0;32m      5\u001b[0m \u001b[1;32mfor\u001b[0m \u001b[0mi\u001b[0m \u001b[1;32min\u001b[0m \u001b[0mrange\u001b[0m\u001b[1;33m(\u001b[0m\u001b[1;36m1000\u001b[0m\u001b[1;33m)\u001b[0m\u001b[1;33m:\u001b[0m\u001b[1;33m\u001b[0m\u001b[1;33m\u001b[0m\u001b[0m\n\u001b[0;32m      6\u001b[0m     \u001b[0msearch_query\u001b[0m \u001b[1;33m=\u001b[0m \u001b[0mscholarly\u001b[0m\u001b[1;33m.\u001b[0m\u001b[0msearch_author\u001b[0m\u001b[1;33m(\u001b[0m\u001b[0mTitle\u001b[0m\u001b[1;33m)\u001b[0m\u001b[1;33m\u001b[0m\u001b[1;33m\u001b[0m\u001b[0m\n\u001b[1;32m----> 7\u001b[1;33m     \u001b[0mfirst_author_result\u001b[0m \u001b[1;33m=\u001b[0m \u001b[0mnext\u001b[0m\u001b[1;33m(\u001b[0m\u001b[0msearch_query\u001b[0m\u001b[1;33m)\u001b[0m\u001b[1;33m\u001b[0m\u001b[1;33m\u001b[0m\u001b[0m\n\u001b[0m\u001b[0;32m      8\u001b[0m     \u001b[0mscholarly\u001b[0m\u001b[1;33m.\u001b[0m\u001b[0mpprint\u001b[0m\u001b[1;33m(\u001b[0m\u001b[0mfirst_author_result\u001b[0m\u001b[1;33m)\u001b[0m\u001b[1;33m\u001b[0m\u001b[1;33m\u001b[0m\u001b[0m\n\u001b[0;32m      9\u001b[0m \u001b[1;33m\u001b[0m\u001b[0m\n",
      "\u001b[1;32m~\\Anaconda3\\lib\\site-packages\\scholarly\\_navigator.py\u001b[0m in \u001b[0;36msearch_authors\u001b[1;34m(self, url)\u001b[0m\n\u001b[0;32m    235\u001b[0m     \u001b[1;32mdef\u001b[0m \u001b[0msearch_authors\u001b[0m\u001b[1;33m(\u001b[0m\u001b[0mself\u001b[0m\u001b[1;33m,\u001b[0m \u001b[0murl\u001b[0m\u001b[1;33m:\u001b[0m \u001b[0mstr\u001b[0m\u001b[1;33m)\u001b[0m\u001b[1;33m->\u001b[0m\u001b[0mAuthor\u001b[0m\u001b[1;33m:\u001b[0m\u001b[1;33m\u001b[0m\u001b[1;33m\u001b[0m\u001b[0m\n\u001b[0;32m    236\u001b[0m         \u001b[1;34m\"\"\"Generator that returns Author objects from the author search page\"\"\"\u001b[0m\u001b[1;33m\u001b[0m\u001b[1;33m\u001b[0m\u001b[0m\n\u001b[1;32m--> 237\u001b[1;33m         \u001b[0msoup\u001b[0m \u001b[1;33m=\u001b[0m \u001b[0mself\u001b[0m\u001b[1;33m.\u001b[0m\u001b[0m_get_soup\u001b[0m\u001b[1;33m(\u001b[0m\u001b[0murl\u001b[0m\u001b[1;33m)\u001b[0m\u001b[1;33m\u001b[0m\u001b[1;33m\u001b[0m\u001b[0m\n\u001b[0m\u001b[0;32m    238\u001b[0m \u001b[1;33m\u001b[0m\u001b[0m\n\u001b[0;32m    239\u001b[0m         \u001b[0mauthor_parser\u001b[0m \u001b[1;33m=\u001b[0m \u001b[0mAuthorParser\u001b[0m\u001b[1;33m(\u001b[0m\u001b[0mself\u001b[0m\u001b[1;33m)\u001b[0m\u001b[1;33m\u001b[0m\u001b[1;33m\u001b[0m\u001b[0m\n",
      "\u001b[1;32m~\\Anaconda3\\lib\\site-packages\\scholarly\\_navigator.py\u001b[0m in \u001b[0;36m_get_soup\u001b[1;34m(self, url)\u001b[0m\n\u001b[0;32m    224\u001b[0m     \u001b[1;32mdef\u001b[0m \u001b[0m_get_soup\u001b[0m\u001b[1;33m(\u001b[0m\u001b[0mself\u001b[0m\u001b[1;33m,\u001b[0m \u001b[0murl\u001b[0m\u001b[1;33m:\u001b[0m \u001b[0mstr\u001b[0m\u001b[1;33m)\u001b[0m \u001b[1;33m->\u001b[0m \u001b[0mBeautifulSoup\u001b[0m\u001b[1;33m:\u001b[0m\u001b[1;33m\u001b[0m\u001b[1;33m\u001b[0m\u001b[0m\n\u001b[0;32m    225\u001b[0m         \u001b[1;34m\"\"\"Return the BeautifulSoup for a page on scholar.google.com\"\"\"\u001b[0m\u001b[1;33m\u001b[0m\u001b[1;33m\u001b[0m\u001b[0m\n\u001b[1;32m--> 226\u001b[1;33m         \u001b[0mhtml\u001b[0m \u001b[1;33m=\u001b[0m \u001b[0mself\u001b[0m\u001b[1;33m.\u001b[0m\u001b[0m_get_page\u001b[0m\u001b[1;33m(\u001b[0m\u001b[1;34m'https://scholar.google.com{0}'\u001b[0m\u001b[1;33m.\u001b[0m\u001b[0mformat\u001b[0m\u001b[1;33m(\u001b[0m\u001b[0murl\u001b[0m\u001b[1;33m)\u001b[0m\u001b[1;33m)\u001b[0m\u001b[1;33m\u001b[0m\u001b[1;33m\u001b[0m\u001b[0m\n\u001b[0m\u001b[0;32m    227\u001b[0m         \u001b[0mhtml\u001b[0m \u001b[1;33m=\u001b[0m \u001b[0mhtml\u001b[0m\u001b[1;33m.\u001b[0m\u001b[0mreplace\u001b[0m\u001b[1;33m(\u001b[0m\u001b[1;34mu'\\xa0'\u001b[0m\u001b[1;33m,\u001b[0m \u001b[1;34mu' '\u001b[0m\u001b[1;33m)\u001b[0m\u001b[1;33m\u001b[0m\u001b[1;33m\u001b[0m\u001b[0m\n\u001b[0;32m    228\u001b[0m         \u001b[0mres\u001b[0m \u001b[1;33m=\u001b[0m \u001b[0mBeautifulSoup\u001b[0m\u001b[1;33m(\u001b[0m\u001b[0mhtml\u001b[0m\u001b[1;33m,\u001b[0m \u001b[1;34m'html.parser'\u001b[0m\u001b[1;33m)\u001b[0m\u001b[1;33m\u001b[0m\u001b[1;33m\u001b[0m\u001b[0m\n",
      "\u001b[1;32m~\\Anaconda3\\lib\\site-packages\\scholarly\\_navigator.py\u001b[0m in \u001b[0;36m_get_page\u001b[1;34m(self, pagerequest, premium)\u001b[0m\n\u001b[0;32m    110\u001b[0m             \u001b[1;32mtry\u001b[0m\u001b[1;33m:\u001b[0m\u001b[1;33m\u001b[0m\u001b[1;33m\u001b[0m\u001b[0m\n\u001b[0;32m    111\u001b[0m                 \u001b[0mw\u001b[0m \u001b[1;33m=\u001b[0m \u001b[0mrandom\u001b[0m\u001b[1;33m.\u001b[0m\u001b[0muniform\u001b[0m\u001b[1;33m(\u001b[0m\u001b[1;36m1\u001b[0m\u001b[1;33m,\u001b[0m\u001b[1;36m2\u001b[0m\u001b[1;33m)\u001b[0m\u001b[1;33m\u001b[0m\u001b[1;33m\u001b[0m\u001b[0m\n\u001b[1;32m--> 112\u001b[1;33m                 \u001b[0mtime\u001b[0m\u001b[1;33m.\u001b[0m\u001b[0msleep\u001b[0m\u001b[1;33m(\u001b[0m\u001b[0mw\u001b[0m\u001b[1;33m)\u001b[0m\u001b[1;33m\u001b[0m\u001b[1;33m\u001b[0m\u001b[0m\n\u001b[0m\u001b[0;32m    113\u001b[0m                 \u001b[0mresp\u001b[0m \u001b[1;33m=\u001b[0m \u001b[0msession\u001b[0m\u001b[1;33m.\u001b[0m\u001b[0mget\u001b[0m\u001b[1;33m(\u001b[0m\u001b[0mpagerequest\u001b[0m\u001b[1;33m,\u001b[0m \u001b[0mtimeout\u001b[0m\u001b[1;33m=\u001b[0m\u001b[0mtimeout\u001b[0m\u001b[1;33m)\u001b[0m\u001b[1;33m\u001b[0m\u001b[1;33m\u001b[0m\u001b[0m\n\u001b[0;32m    114\u001b[0m                 \u001b[0mself\u001b[0m\u001b[1;33m.\u001b[0m\u001b[0mlogger\u001b[0m\u001b[1;33m.\u001b[0m\u001b[0mdebug\u001b[0m\u001b[1;33m(\u001b[0m\u001b[1;34m\"Session proxy config is {}\"\u001b[0m\u001b[1;33m.\u001b[0m\u001b[0mformat\u001b[0m\u001b[1;33m(\u001b[0m\u001b[0msession\u001b[0m\u001b[1;33m.\u001b[0m\u001b[0mproxies\u001b[0m\u001b[1;33m)\u001b[0m\u001b[1;33m)\u001b[0m\u001b[1;33m\u001b[0m\u001b[1;33m\u001b[0m\u001b[0m\n",
      "\u001b[1;31mKeyboardInterrupt\u001b[0m: "
     ]
    }
   ],
   "source": [
    "# You code here (Please add comments in the code):\n",
    "import requests\n",
    "from scholarly import scholarly\n",
    "Title = 'information retrieval'\n",
    "for i in range(1000):\n",
    "    search_query = scholarly.search_author(Title)\n",
    "    first_author_result = next(search_query)\n",
    "    scholarly.pprint(first_author_result)\n",
    "\n"
   ]
  },
  {
   "cell_type": "code",
   "execution_count": null,
   "metadata": {},
   "outputs": [],
   "source": []
  },
  {
   "cell_type": "markdown",
   "metadata": {},
   "source": [
    "Question 4 (10 points): Write python code to collect 1000 posts from Twitter, or Facebook, or Instagram. You can either use hashtags, keywords, user_name, user_id, or other information to collect the data. \n",
    "\n",
    "The following information needs to be collected:\n",
    "\n",
    "(1) User_name\n",
    "\n",
    "(2) Posted time\n",
    "\n",
    "(3) Text "
   ]
  },
  {
   "cell_type": "code",
   "execution_count": null,
   "metadata": {},
   "outputs": [],
   "source": [
    "from twython import Twython\n",
    "\n",
    "TWITTER_APP_KEY = 'xxxxxx'\n",
    "TWITTER_APP_KEY_SECRET = 'xxxxxx' \n",
    "TWITTER_ACCESS_TOKEN = 'xxxxxxx'\n",
    "TWITTER_ACCESS_TOKEN_SECRET = 'xxxxxx'\n",
    "\n",
    "t = Twython(app_key=TWITTER_APP_KEY, app_secret=TWITTER_APP_KEY_SECRET, oauth_token=TWITTER_ACCESS_TOKEN, oauth_token_secret=TWITTER_ACCESS_TOKEN_SECRET)\n",
    "searches = t.search(q='#bestfrnds',  count=100)\n",
    "tweet_info = searches['statuses']\n",
    "for tweet in tweet_info:\n",
    "      print tweet['id_str'], '\\n', tweet['text'], '\\n\\n\\n'"
   ]
  },
  {
   "cell_type": "code",
   "execution_count": null,
   "metadata": {},
   "outputs": [],
   "source": []
  },
  {
   "cell_type": "code",
   "execution_count": null,
   "metadata": {},
   "outputs": [],
   "source": []
  },
  {
   "cell_type": "code",
   "execution_count": null,
   "metadata": {},
   "outputs": [],
   "source": []
  },
  {
   "cell_type": "code",
   "execution_count": null,
   "metadata": {},
   "outputs": [],
   "source": []
  },
  {
   "cell_type": "code",
   "execution_count": null,
   "metadata": {},
   "outputs": [],
   "source": []
  },
  {
   "cell_type": "code",
   "execution_count": null,
   "metadata": {},
   "outputs": [],
   "source": []
  },
  {
   "cell_type": "code",
   "execution_count": null,
   "metadata": {},
   "outputs": [],
   "source": []
  },
  {
   "cell_type": "code",
   "execution_count": null,
   "metadata": {},
   "outputs": [],
   "source": []
  },
  {
   "cell_type": "code",
   "execution_count": null,
   "metadata": {},
   "outputs": [],
   "source": []
  },
  {
   "cell_type": "code",
   "execution_count": null,
   "metadata": {},
   "outputs": [],
   "source": []
  },
  {
   "cell_type": "code",
   "execution_count": null,
   "metadata": {},
   "outputs": [],
   "source": []
  }
 ],
 "metadata": {
  "kernelspec": {
   "display_name": "Python 3 (ipykernel)",
   "language": "python",
   "name": "python3"
  },
  "language_info": {
   "codemirror_mode": {
    "name": "ipython",
    "version": 3
   },
   "file_extension": ".py",
   "mimetype": "text/x-python",
   "name": "python",
   "nbconvert_exporter": "python",
   "pygments_lexer": "ipython3",
   "version": "3.7.4"
  }
 },
 "nbformat": 4,
 "nbformat_minor": 4
}
