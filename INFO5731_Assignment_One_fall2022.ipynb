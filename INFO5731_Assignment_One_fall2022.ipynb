{
 "cells": [
  {
   "cell_type": "markdown",
   "metadata": {
    "colab_type": "text",
    "id": "view-in-github"
   },
   "source": [
    "<a href=\"https://colab.research.google.com/github/unt-iialab/INFO5731_Spring2020/blob/master/Assignments/INFO5731_Assignment_One.ipynb\" target=\"_parent\"><img src=\"https://colab.research.google.com/assets/colab-badge.svg\" alt=\"Open In Colab\"/></a>"
   ]
  },
  {
   "cell_type": "markdown",
   "metadata": {
    "colab_type": "text",
    "id": "Ryk8D1Q4Wsrp"
   },
   "source": [
    "# **INFO5731 Assignment One**"
   ]
  },
  {
   "cell_type": "markdown",
   "metadata": {
    "colab_type": "text",
    "id": "90_NR8c5XGWc"
   },
   "source": [
    "# Question 1\n",
    "\n",
    "(20 points). Write a Python program to generate 12 random numbers between 1 and 100. Sort the list of numbers in ascending order and print it out. Sort the list of numbers in descending order and print it out. Calculate the average for the group and print it out."
   ]
  },
  {
   "cell_type": "code",
   "execution_count": 1,
   "metadata": {
    "colab": {},
    "colab_type": "code",
    "id": "5QX6bJjGWXY9"
   },
   "outputs": [
    {
     "name": "stdout",
     "output_type": "stream",
     "text": [
      "[7, 18, 44, 46, 54, 55, 59, 70, 72, 73, 90, 92]\n",
      "[92, 90, 73, 72, 70, 59, 55, 54, 46, 44, 18, 7]\n",
      "56.666666666666664\n"
     ]
    }
   ],
   "source": [
    "# Your code here\n",
    "import random\n",
    "Numlist=random.sample(range(1,100),12)\n",
    "Numlist.sort()\n",
    "print(Numlist)\n",
    "Numlist.sort(reverse=True)\n",
    "print(Numlist)\n",
    "from statistics import mean\n",
    "Numlist_avg=mean(Numlist)\n",
    "print(Numlist_avg)\n"
   ]
  },
  {
   "cell_type": "markdown",
   "metadata": {
    "colab_type": "text",
    "id": "1F_PZdH9Sh49"
   },
   "source": [
    "# Question 2\n",
    "(25 points). Write a program that will do the following string formatting tasks:\n",
    "\n",
    "(1) Ask the user to enter two sentences.\n",
    "\n",
    "(2) Make each sentence into a list. Each element in the list should correspond to a word in the sentence. For example, if the sentence is \"Alas! Am I alive? This is my first python program\", the program should print out ['Alas, '!', 'Am', 'I', 'alive, '?', 'This', 'is', 'my', 'first', 'python', 'program'].\n",
    "\n",
    "(3) Compare the two sentences. Print out a list of words that occur in both sentences.\n",
    "\n",
    "(4) Remove any punctuation from the sentence and print it back out. It should remove at least the following characters, but it can remove more: period(“.”), comma (“,”), semicolon (“;”), and colon (“:”)\n",
    "\n",
    "(5) Count the number of vowels in the sentences. Print out each vowel and the number of times it appears in the sentences, such as: a:2, e:1, i:0, etc"
   ]
  },
  {
   "cell_type": "code",
   "execution_count": 1,
   "metadata": {
    "colab": {},
    "colab_type": "code",
    "id": "Y0oOSlsOS0cq"
   },
   "outputs": [
    {
     "name": "stdin",
     "output_type": "stream",
     "text": [
      "enter first sentence: hello world\n",
      "enter second sentence: I am iron man ,;;;.\n"
     ]
    },
    {
     "name": "stdout",
     "output_type": "stream",
     "text": [
      "hello world I am iron man ,;;;.\n",
      "['hello', 'world']\n",
      "['I', 'am', 'iron', 'man', ',', ';', ';', ';', '.']\n",
      "\n",
      "Vowel frequency  {'a': 0, 'e': 0, 'i': 0, 'o': 0, 'u': 0}\n",
      "\n",
      "Vowel frequency  {'a': 0, 'e': 1, 'i': 0, 'o': 0, 'u': 0}\n",
      "\n",
      "Vowel frequency  {'a': 0, 'e': 1, 'i': 0, 'o': 0, 'u': 0}\n",
      "\n",
      "Vowel frequency  {'a': 0, 'e': 1, 'i': 0, 'o': 0, 'u': 0}\n",
      "\n",
      "Vowel frequency  {'a': 0, 'e': 1, 'i': 0, 'o': 1, 'u': 0}\n",
      "\n",
      "Vowel frequency  {'a': 0, 'e': 1, 'i': 0, 'o': 1, 'u': 0}\n",
      "\n",
      "Vowel frequency  {'a': 0, 'e': 1, 'i': 0, 'o': 1, 'u': 0}\n",
      "\n",
      "Vowel frequency  {'a': 0, 'e': 1, 'i': 0, 'o': 2, 'u': 0}\n",
      "\n",
      "Vowel frequency  {'a': 0, 'e': 1, 'i': 0, 'o': 2, 'u': 0}\n",
      "\n",
      "Vowel frequency  {'a': 0, 'e': 1, 'i': 0, 'o': 2, 'u': 0}\n",
      "\n",
      "Vowel frequency  {'a': 0, 'e': 1, 'i': 0, 'o': 2, 'u': 0}\n"
     ]
    }
   ],
   "source": [
    "# Your code here\n",
    "import string\n",
    "import re\n",
    "s1=input('enter first sentence:')\n",
    "s2=input('enter second sentence:')\n",
    "print(s1,s2)\n",
    "s3=re.findall(r\"[\\w']+|[.,!?;:]\", s1)\n",
    "s4=re.findall(r\"[\\w']+|[.,!?;:]\", s2)\n",
    "print(s3)\n",
    "print(s4)\n",
    "for word in s3:\n",
    "    for other in s4:\n",
    "        if word.lower()==other.lower():\n",
    "            print(word)\n",
    "for word in s3:\n",
    "    for other in s4:\n",
    "        if word.lower() == other.lower() and word not in string.punctuation:\n",
    "            print(word)\n",
    "vowels = {'a':0, 'e':0, 'i':0, 'o':0, 'u':0}\n",
    "for letter in s1:\n",
    "    if letter.lower() in vowels:\n",
    "        vowels[letter.lower()] += 1\n",
    "    print(\"\\nVowel frequency \",vowels)\n"
   ]
  },
  {
   "cell_type": "markdown",
   "metadata": {
    "colab_type": "text",
    "id": "CmFoI4jDS9nx"
   },
   "source": [
    "# Question 3 \n",
    "\n",
    "(15 points). The formula that describes the volume V of a sphere with radius r is the following:\n",
    "\n",
    "$ V=\\frac{4}{3}\\ast\\ \\pi\\ast\\ r^3 $\n",
    "\n",
    "Write a program to calculate the value of V when r is in the range of 1–10. Output the result in the following format:\n",
    "\n",
    "\tr\tV\n",
    "\t1\t…\n",
    "\t2\t…\n",
    "\t3\t…\n"
   ]
  },
  {
   "cell_type": "code",
   "execution_count": 2,
   "metadata": {
    "colab": {},
    "colab_type": "code",
    "id": "pEyqeioAT95b"
   },
   "outputs": [
    {
     "name": "stdout",
     "output_type": "stream",
     "text": [
      "r         V\n",
      "1 \t 4.1888\n",
      "2 \t 33.5104\n",
      "3 \t 113.09759999999997\n",
      "4 \t 268.0832\n",
      "5 \t 523.6\n",
      "6 \t 904.7807999999998\n",
      "7 \t 1436.7584\n",
      "8 \t 2144.6656\n",
      "9 \t 3053.6352\n",
      "10 \t 4188.8\n"
     ]
    }
   ],
   "source": [
    "# Your code here\n",
    "print(\"r         V\")\n",
    "for r in range(1,11):\n",
    "    V0=4/3*3.1416*r*r*r\n",
    "    print(r,\"\\t\",V0)\n"
   ]
  },
  {
   "cell_type": "markdown",
   "metadata": {
    "colab_type": "text",
    "id": "z3tBE7E-Xn5X",
    "tags": []
   },
   "source": [
    "# Question 4\n",
    "\n",
    "(40 points). In the field of Data Science, data is often formatted as a comma-delimited (CSV) file, where each line in a file corresponds to a field's value. Refer to Chapter 9 (p. 106) for more information on comma-delimited files. To answer this question, you will need to download the file [Assignment1_denton_housing.csv](https://raw.githubusercontent.com/unt-iialab/info5731-spring2022/main/assignments/Assignment1_denton_housing.csv) included with this assignment. The file [Assignment1_denton_housing.csv](https://raw.githubusercontent.com/unt-iialab/info5731-spring2022/main/assignments/Assignment1_denton_housing.csv) contains statistics about housing in the city of Denton from 2008 to 2014. Write a program to implement the following questions.\n",
    "\n",
    "(1) (10 pts) Calculate the difference in the number of Occupied Housing Units from year to year and print it. The difference must be calculated for the consecutive years such as 2008-2009, 2009-2010 etc. Finally, print the values in the ascending order.\n",
    "\n",
    "(2) (10 pts) For all the years, calculate the percentage of housing units which are vacant an occupied. Print the results in the following format:\n",
    "\n",
    "Year Vacant Housing Units Occupied Housing Units\n",
    "\n",
    "    2008  30%   70%                          \n",
    "\t2009 ----- -----\n",
    "\t2010 ----- -----\n",
    "    2011 ----- -----\n",
    "\t2012 ----- -----\n",
    "    2013 ----- -----\n",
    "\t2014 ----- -----\n",
    "  \n",
    "  \n",
    "\n",
    "(3) (10 pts) Calculate and print the valued and years in which the highest number of housing units were vacant and occupied. Print the results in the following format:  \n",
    "\n",
    "                              Year\tValue\n",
    "\tVacant Housing Units\t  -----   -----\n",
    "\tOccupied Housing Units\t-----   -----\n",
    "\n",
    "(4) (10 pts) Calculate the harmonic mean of the total housing units and print it out. You can find the information about harmonic mean here: https://ncalculators.com/statistics/harmonic-mean-calculator.htm"
   ]
  },
  {
   "cell_type": "code",
   "execution_count": 3,
   "metadata": {
    "colab": {},
    "colab_type": "code",
    "id": "lqGYuHBhcsRH"
   },
   "outputs": [
    {
     "name": "stdout",
     "output_type": "stream",
     "text": [
      "shape:  (42, 3)\n"
     ]
    },
    {
     "data": {
      "text/html": [
       "<div>\n",
       "<style scoped>\n",
       "    .dataframe tbody tr th:only-of-type {\n",
       "        vertical-align: middle;\n",
       "    }\n",
       "\n",
       "    .dataframe tbody tr th {\n",
       "        vertical-align: top;\n",
       "    }\n",
       "\n",
       "    .dataframe thead th {\n",
       "        text-align: right;\n",
       "    }\n",
       "</style>\n",
       "<table border=\"1\" class=\"dataframe\">\n",
       "  <thead>\n",
       "    <tr style=\"text-align: right;\">\n",
       "      <th></th>\n",
       "      <th>year</th>\n",
       "      <th>title_field</th>\n",
       "      <th>value</th>\n",
       "    </tr>\n",
       "  </thead>\n",
       "  <tbody>\n",
       "    <tr>\n",
       "      <th>0</th>\n",
       "      <td>2014</td>\n",
       "      <td>Total Housing Units</td>\n",
       "      <td>49109</td>\n",
       "    </tr>\n",
       "    <tr>\n",
       "      <th>1</th>\n",
       "      <td>2014</td>\n",
       "      <td>Vacant Housing Units</td>\n",
       "      <td>2814</td>\n",
       "    </tr>\n",
       "    <tr>\n",
       "      <th>2</th>\n",
       "      <td>2014</td>\n",
       "      <td>Occupied Housing Units</td>\n",
       "      <td>46295</td>\n",
       "    </tr>\n",
       "    <tr>\n",
       "      <th>3</th>\n",
       "      <td>2013</td>\n",
       "      <td>Total Housing Units</td>\n",
       "      <td>47888</td>\n",
       "    </tr>\n",
       "    <tr>\n",
       "      <th>4</th>\n",
       "      <td>2013</td>\n",
       "      <td>Vacant Housing Units</td>\n",
       "      <td>4215</td>\n",
       "    </tr>\n",
       "  </tbody>\n",
       "</table>\n",
       "</div>"
      ],
      "text/plain": [
       "   year             title_field  value\n",
       "0  2014     Total Housing Units  49109\n",
       "1  2014    Vacant Housing Units   2814\n",
       "2  2014  Occupied Housing Units  46295\n",
       "3  2013     Total Housing Units  47888\n",
       "4  2013    Vacant Housing Units   4215"
      ]
     },
     "execution_count": 3,
     "metadata": {},
     "output_type": "execute_result"
    }
   ],
   "source": [
    "# Your code here\n",
    "import pandas as pd\n",
    "import statistics\n",
    "house = pd.read_csv('Assignment1_denton_housing.csv')\n",
    "print('shape: ',house.shape)\n",
    "house.head()"
   ]
  },
  {
   "cell_type": "code",
   "execution_count": 4,
   "metadata": {
    "tags": []
   },
   "outputs": [
    {
     "data": {
      "text/plain": [
       "[-5091, -2622, -1565, -1404, 303, 795]"
      ]
     },
     "execution_count": 4,
     "metadata": {},
     "output_type": "execute_result"
    }
   ],
   "source": [
    "#(1)\n",
    "occuped_houses = house[house['title_field'] == 'Occupied Housing Units'].sort_values(by=['year'])\n",
    "diff_house = [list(occuped_houses['value'].values)[loop1] - list(occuped_houses['value'].values)[loop1+1]\\\n",
    "             for loop1 in range(len(occuped_houses)-1)]\n",
    "diff_house = sorted(diff_house)\n",
    "diff_house"
   ]
  },
  {
   "cell_type": "code",
   "execution_count": 5,
   "metadata": {},
   "outputs": [
    {
     "data": {
      "text/html": [
       "<div>\n",
       "<style scoped>\n",
       "    .dataframe tbody tr th:only-of-type {\n",
       "        vertical-align: middle;\n",
       "    }\n",
       "\n",
       "    .dataframe tbody tr th {\n",
       "        vertical-align: top;\n",
       "    }\n",
       "\n",
       "    .dataframe thead th {\n",
       "        text-align: right;\n",
       "    }\n",
       "</style>\n",
       "<table border=\"1\" class=\"dataframe\">\n",
       "  <thead>\n",
       "    <tr style=\"text-align: right;\">\n",
       "      <th></th>\n",
       "      <th>year</th>\n",
       "      <th>Vacant House</th>\n",
       "      <th>Occupied House</th>\n",
       "      <th>Percent of Vacant House</th>\n",
       "      <th>Percent of Occupied House</th>\n",
       "    </tr>\n",
       "  </thead>\n",
       "  <tbody>\n",
       "    <tr>\n",
       "      <th>0</th>\n",
       "      <td>2008</td>\n",
       "      <td>4483</td>\n",
       "      <td>36711</td>\n",
       "      <td>10.882653</td>\n",
       "      <td>89.117347</td>\n",
       "    </tr>\n",
       "    <tr>\n",
       "      <th>1</th>\n",
       "      <td>2009</td>\n",
       "      <td>3583</td>\n",
       "      <td>35916</td>\n",
       "      <td>9.071116</td>\n",
       "      <td>90.928884</td>\n",
       "    </tr>\n",
       "    <tr>\n",
       "      <th>2</th>\n",
       "      <td>2010</td>\n",
       "      <td>3635</td>\n",
       "      <td>41007</td>\n",
       "      <td>8.142556</td>\n",
       "      <td>91.857444</td>\n",
       "    </tr>\n",
       "    <tr>\n",
       "      <th>3</th>\n",
       "      <td>2011</td>\n",
       "      <td>4213</td>\n",
       "      <td>40704</td>\n",
       "      <td>9.379522</td>\n",
       "      <td>90.620478</td>\n",
       "    </tr>\n",
       "    <tr>\n",
       "      <th>4</th>\n",
       "      <td>2012</td>\n",
       "      <td>3013</td>\n",
       "      <td>42108</td>\n",
       "      <td>6.677600</td>\n",
       "      <td>93.322400</td>\n",
       "    </tr>\n",
       "    <tr>\n",
       "      <th>5</th>\n",
       "      <td>2013</td>\n",
       "      <td>4215</td>\n",
       "      <td>43673</td>\n",
       "      <td>8.801788</td>\n",
       "      <td>91.198212</td>\n",
       "    </tr>\n",
       "    <tr>\n",
       "      <th>6</th>\n",
       "      <td>2014</td>\n",
       "      <td>2814</td>\n",
       "      <td>46295</td>\n",
       "      <td>5.730111</td>\n",
       "      <td>94.269889</td>\n",
       "    </tr>\n",
       "  </tbody>\n",
       "</table>\n",
       "</div>"
      ],
      "text/plain": [
       "   year  Vacant House  Occupied House  Percent of Vacant House  \\\n",
       "0  2008          4483           36711                10.882653   \n",
       "1  2009          3583           35916                 9.071116   \n",
       "2  2010          3635           41007                 8.142556   \n",
       "3  2011          4213           40704                 9.379522   \n",
       "4  2012          3013           42108                 6.677600   \n",
       "5  2013          4215           43673                 8.801788   \n",
       "6  2014          2814           46295                 5.730111   \n",
       "\n",
       "   Percent of Occupied House  \n",
       "0                  89.117347  \n",
       "1                  90.928884  \n",
       "2                  91.857444  \n",
       "3                  90.620478  \n",
       "4                  93.322400  \n",
       "5                  91.198212  \n",
       "6                  94.269889  "
      ]
     },
     "execution_count": 5,
     "metadata": {},
     "output_type": "execute_result"
    }
   ],
   "source": [
    "#(2)\n",
    "unique_years = sorted(list(house['year'].unique()))   # legging list of unique year number\n",
    "occuped_houses = house[house['title_field'] == 'Occupied Housing Units'].sort_values(by=['year'])\n",
    "vacant_houses = house[house['title_field'] == 'Vacant Housing Units'].sort_values(by=['year'])\n",
    "\n",
    "new_house_df = pd.DataFrame()\n",
    "new_house_df['year'] = unique_years\n",
    "new_house_df['Vacant House'] = vacant_houses['value'].values\n",
    "new_house_df['Occupied House'] = occuped_houses['value'].values\n",
    "new_house_df['Percent of Vacant House'] = [(new_house_df['Vacant House'][loop1] * 100) /\\\n",
    "                                           (new_house_df['Vacant House'][loop1] + new_house_df['Occupied House'][loop1])\\\n",
    "                                           for loop1 in range(len(new_house_df))]\n",
    "new_house_df['Percent of Occupied House'] = [(new_house_df['Occupied House'][loop1] * 100) /\\\n",
    "                                           (new_house_df['Vacant House'][loop1] + new_house_df['Occupied House'][loop1])\\\n",
    "                                           for loop1 in range(len(new_house_df))]\n",
    "new_house_df"
   ]
  },
  {
   "cell_type": "code",
   "execution_count": 6,
   "metadata": {},
   "outputs": [
    {
     "data": {
      "text/html": [
       "<div>\n",
       "<style scoped>\n",
       "    .dataframe tbody tr th:only-of-type {\n",
       "        vertical-align: middle;\n",
       "    }\n",
       "\n",
       "    .dataframe tbody tr th {\n",
       "        vertical-align: top;\n",
       "    }\n",
       "\n",
       "    .dataframe thead th {\n",
       "        text-align: right;\n",
       "    }\n",
       "</style>\n",
       "<table border=\"1\" class=\"dataframe\">\n",
       "  <thead>\n",
       "    <tr style=\"text-align: right;\">\n",
       "      <th></th>\n",
       "      <th>year</th>\n",
       "      <th>title_field</th>\n",
       "      <th>value</th>\n",
       "    </tr>\n",
       "  </thead>\n",
       "  <tbody>\n",
       "    <tr>\n",
       "      <th>2</th>\n",
       "      <td>2014</td>\n",
       "      <td>Occupied Housing Units</td>\n",
       "      <td>46295</td>\n",
       "    </tr>\n",
       "  </tbody>\n",
       "</table>\n",
       "</div>"
      ],
      "text/plain": [
       "   year             title_field  value\n",
       "2  2014  Occupied Housing Units  46295"
      ]
     },
     "execution_count": 6,
     "metadata": {},
     "output_type": "execute_result"
    }
   ],
   "source": [
    "#(3)\n",
    "max_vacant_houses = max(house[house['title_field'] == 'Vacant Housing Units'].value)\n",
    "vacant_houses = vacant_houses[vacant_houses['value'] == max_vacant_houses]\n",
    "vacant_houses\n",
    "max_occuped_houses = max(house[house['title_field'] == 'Occupied Housing Units'].value)\n",
    "occuped_houses = occuped_houses[occuped_houses['value'] == max_occuped_houses]\n",
    "occuped_houses"
   ]
  },
  {
   "cell_type": "code",
   "execution_count": 7,
   "metadata": {},
   "outputs": [
    {
     "name": "stdout",
     "output_type": "stream",
     "text": [
      "44398.28543969185\n"
     ]
    }
   ],
   "source": [
    "#(4)\n",
    "print(statistics.harmonic_mean(list(house[house['title_field'] == 'Total Housing Units'].value)))"
   ]
  },
  {
   "cell_type": "code",
   "execution_count": null,
   "metadata": {},
   "outputs": [],
   "source": []
  }
 ],
 "metadata": {
  "colab": {
   "authorship_tag": "ABX9TyOAjsNCkNulTpzgRQbHdy3f",
   "collapsed_sections": [],
   "include_colab_link": true,
   "name": "INFO5731_Assignment_One.ipynb",
   "provenance": []
  },
  "kernelspec": {
   "display_name": "Python 3",
   "language": "python",
   "name": "python3"
  },
  "language_info": {
   "codemirror_mode": {
    "name": "ipython",
    "version": 3
   },
   "file_extension": ".py",
   "mimetype": "text/x-python",
   "name": "python",
   "nbconvert_exporter": "python",
   "pygments_lexer": "ipython3",
   "version": "3.8.8"
  }
 },
 "nbformat": 4,
 "nbformat_minor": 4
}
