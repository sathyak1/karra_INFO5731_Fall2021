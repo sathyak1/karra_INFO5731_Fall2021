{
 "cells": [
  {
   "cell_type": "markdown",
   "metadata": {
    "colab_type": "text",
    "id": "view-in-github"
   },
   "source": [
    "<a href=\"https://colab.research.google.com/github/unt-iialab/INFO5731_Spring2020/blob/master/In_class_exercise/In_class_exercise_01.ipynb\" target=\"_parent\"><img src=\"https://colab.research.google.com/assets/colab-badge.svg\" alt=\"Open In Colab\"/></a>"
   ]
  },
  {
   "cell_type": "markdown",
   "metadata": {
    "colab_type": "text",
    "id": "DymRJbxDBCnf"
   },
   "source": [
    "# **The first In-class-exercise (09/07/2022, 40 points in total)**"
   ]
  },
  {
   "cell_type": "markdown",
   "metadata": {
    "colab_type": "text",
    "id": "03jb4GZsBkBS"
   },
   "source": [
    "(1) Write a Python program to calculate the length of a string. (4 points)"
   ]
  },
  {
   "cell_type": "code",
   "execution_count": null,
   "metadata": {
    "colab": {},
    "colab_type": "code",
    "id": "YaGLbSHHB8Ej"
   },
   "outputs": [],
   "source": [
    "# write your answer here\n",
    "string=\"Hello world\"\n",
    "a=len(string)\n",
    "print(a)"
   ]
  },
  {
   "cell_type": "markdown",
   "metadata": {
    "colab_type": "text",
    "id": "jJDe71iLB616"
   },
   "source": [
    "(2) Write a Python program to count the number of characters in a string. (4 points)\n",
    "\n",
    "Sample String : 'google.com‘, \n",
    "\n",
    "Expected Result : {'o': 3, 'g': 2, '.': 1, 'e': 1, 'l': 1, 'm': 1, 'c': 1}"
   ]
  },
  {
   "cell_type": "code",
   "execution_count": null,
   "metadata": {
    "colab": {},
    "colab_type": "code",
    "id": "MtKskTzbCLaU"
   },
   "outputs": [],
   "source": [
    "# write your answer here\n",
    "sstring=\"google.com,\"\n",
    "freq = {}  \n",
    "for i in sstring:\n",
    "    if i in freq:\n",
    "        freq[i]\n",
    "        freq[i]+= 1\n",
    "    else:\n",
    "        freq[i] = 1\n",
    "        \n",
    "print(freq)        "
   ]
  },
  {
   "cell_type": "markdown",
   "metadata": {
    "colab_type": "text",
    "id": "55W9AMdXCSpV"
   },
   "source": [
    "(3) Write a Python program to sum all the items in a list. (4 points)"
   ]
  },
  {
   "cell_type": "code",
   "execution_count": 32,
   "metadata": {
    "colab": {},
    "colab_type": "code",
    "id": "I57NXsauCec2"
   },
   "outputs": [
    {
     "name": "stdout",
     "output_type": "stream",
     "text": [
      "6\n"
     ]
    }
   ],
   "source": [
    "# write your answer here\n",
    "l=[1,2,3]\n",
    "s=0\n",
    "for i in range(0,len(l)):\n",
    "    s=s + l[i]\n",
    "    \n",
    "print(s) "
   ]
  },
  {
   "cell_type": "markdown",
   "metadata": {
    "colab_type": "text",
    "id": "4ulBZ6yhCi9F"
   },
   "source": [
    "(4) Write a Python program to get a string from a given string where all occurrences of its first char have been changed to '\\$', except the first char itself. (4 points)\n",
    "\n",
    "Sample String : 'restart‘, \n",
    "\n",
    "Expected Result : 'resta\\$t'"
   ]
  },
  {
   "cell_type": "code",
   "execution_count": 43,
   "metadata": {
    "colab": {},
    "colab_type": "code",
    "id": "Fj0XhwbBCw2o"
   },
   "outputs": [
    {
     "name": "stdout",
     "output_type": "stream",
     "text": [
      "resta$t\n"
     ]
    }
   ],
   "source": [
    "# write your answer here\n",
    "s=\"restart\"\n",
    "a=s[0]\n",
    "s1=s.replace(a,'$')\n",
    "s2=a+s1[1::]\n",
    "print(s2)"
   ]
  },
  {
   "cell_type": "markdown",
   "metadata": {
    "colab_type": "text",
    "id": "_bIP7s1MCzue"
   },
   "source": [
    "(5) Write a program with python which could accept two parameter a and b to calculate and output the result of S, where \n",
    "\n",
    "$\\ S=3.14*(1+a/b)^3$ (4 points)\n",
    "\n"
   ]
  },
  {
   "cell_type": "code",
   "execution_count": 52,
   "metadata": {
    "colab": {},
    "colab_type": "code",
    "id": "w79QilHXD3Mg"
   },
   "outputs": [
    {
     "name": "stdin",
     "output_type": "stream",
     "text": [
      "enter first parameter: 1\n",
      "enter second parameter: 2\n"
     ]
    },
    {
     "name": "stdout",
     "output_type": "stream",
     "text": [
      "10.5975\n"
     ]
    }
   ],
   "source": [
    "# write your answer here\n",
    "a=int(input('enter first parameter:'))\n",
    "b=int(input('enter second parameter:'))\n",
    "pi=3.14\n",
    "x=(1+a/b)**3\n",
    "S=pi*x\n",
    "print(S)"
   ]
  },
  {
   "cell_type": "markdown",
   "metadata": {
    "colab_type": "text",
    "id": "xCa2bK9aD4Q3"
   },
   "source": [
    "(6) Write a Python program to concatenate following dictionaries to create a new one. (4 points)\n",
    "\n",
    "Sample Dictionary : dic1={1:10, 2:20}, dic2={3:30, 4:40}, dic3={5:50,6:60}, \n",
    "\n",
    "Expected Result : {1: 10, 2: 20, 3: 30, 4: 40, 5: 50, 6: 60}\n"
   ]
  },
  {
   "cell_type": "code",
   "execution_count": 53,
   "metadata": {
    "colab": {},
    "colab_type": "code",
    "id": "_z4aLqAbEET1"
   },
   "outputs": [
    {
     "name": "stdout",
     "output_type": "stream",
     "text": [
      "{1: 10, 2: 20, 3: 30, 4: 40, 5: 50, 6: 60}\n"
     ]
    }
   ],
   "source": [
    "# write your answer here\n",
    "dic1={1:10,2:20}\n",
    "dic2={3:30,4:40}\n",
    "dic3={5:50,6:60}\n",
    "dic={}\n",
    "for i in (dic1,dic2,dic3):\n",
    "    dic.update(i)\n",
    "print(dic)\n"
   ]
  },
  {
   "cell_type": "markdown",
   "metadata": {
    "colab_type": "text",
    "id": "0v48Vqa7FrQh"
   },
   "source": [
    "(7) Write a Python program to check whether an element exists within a tuple. (4 points)"
   ]
  },
  {
   "cell_type": "code",
   "execution_count": 62,
   "metadata": {
    "colab": {},
    "colab_type": "code",
    "id": "7WEmgq-DF2P1"
   },
   "outputs": [
    {
     "name": "stdout",
     "output_type": "stream",
     "text": [
      "yes\n"
     ]
    }
   ],
   "source": [
    "# write your answer here\n",
    "ptuple=('k','s','d',1,9)\n",
    "for i in range(0,len(ptuple)):\n",
    "    if ptuple[i]=='k':\n",
    "        print('yes')"
   ]
  },
  {
   "cell_type": "markdown",
   "metadata": {
    "colab_type": "text",
    "id": "vD5PYLMuGga_"
   },
   "source": [
    "(8) Write a Python program to find maximum and the minimum value in a set. (4 points)"
   ]
  },
  {
   "cell_type": "code",
   "execution_count": 64,
   "metadata": {
    "colab": {},
    "colab_type": "code",
    "id": "t0D5kdJUGjjw"
   },
   "outputs": [
    {
     "name": "stdout",
     "output_type": "stream",
     "text": [
      "5\n",
      "1\n"
     ]
    }
   ],
   "source": [
    "# write your answer here\n",
    "q={1,2,3,4,5}\n",
    "m=max(q)\n",
    "n=min(q)\n",
    "print(m)\n",
    "print(n)"
   ]
  },
  {
   "cell_type": "markdown",
   "metadata": {
    "colab_type": "text",
    "id": "uHkd-y5VhVWC"
   },
   "source": [
    "(9) Write a Python program to randomly divide the students in this class into six groups for term projects, each group should have at least 4 students but no more than 6 students (including 6). Here is the students list: (4 points)\n",
    "\n",
    "studnet_list = ['ja0964','sa1198','sb1357','vb0218','sc1229','kg0569','kg0470','sg1297','bg0320','fh0141','jl1252','sk1386',\n",
    "           'ak0956','sk1390','sk1458','sk1313','ak0934','vm0377','nm0618','sm1640','sm1907','gn0108','pr0353','dr0609','ms1500','aos0040','ds0814', 'av0659','nv0234','hy0232']"
   ]
  },
  {
   "cell_type": "code",
   "execution_count": 76,
   "metadata": {
    "colab": {},
    "colab_type": "code",
    "id": "3iGbmcOBhTwy"
   },
   "outputs": [
    {
     "name": "stdout",
     "output_type": "stream",
     "text": [
      "Input list : ['ja0964', 'sa1198', 'sb1357', 'vb0218', 'sc1229', 'kg0569', 'kg0470', 'sg1297', 'bg0320', 'fh0141', 'jl1252', 'sk1386', 'ak0956', 'sk1390', 'sk1458', 'sk1313', 'ak0934', 'vm0377', 'nm0618', 'sm1640', 'sm1907', 'gn0108', 'pr0353', 'dr0609', 'ms1500', 'aos0040', 'ds0814', 'av0659', 'nv0234', 'hy0232']\n",
      "output list [['ja0964', 'sa1198', 'sb1357', 'vb0218', 'sc1229', 'kg0569'], ['kg0470', 'sg1297', 'bg0320', 'fh0141', 'jl1252', 'sk1386'], ['ak0956', 'sk1390', 'sk1458', 'sk1313'], ['ak0934', 'vm0377', 'nm0618', 'sm1640', 'sm1907'], ['gn0108', 'pr0353', 'dr0609', 'ms1500', 'aos0040'], ['ds0814', 'av0659', 'nv0234', 'hy0232']]\n"
     ]
    }
   ],
   "source": [
    "# write your answer here\n",
    "import random \n",
    "from itertools import islice \n",
    "student_list = ['ja0964','sa1198','sb1357','vb0218','sc1229','kg0569','kg0470','sg1297','bg0320','fh0141','jl1252','sk1386',\n",
    "           'ak0956','sk1390','sk1458','sk1313','ak0934','vm0377','nm0618','sm1640','sm1907','gn0108','pr0353','dr0609','ms1500','aos0040','ds0814', 'av0659','nv0234','hy0232']\n",
    "L=len(student_list)\n",
    "L1 = []\n",
    "for i in range(6):\n",
    "    L1.append(random.randint(4,6))\n",
    "    for i in range(6):\n",
    "        if sum(L1)!=len(student_list):\n",
    "            if L1[i]==4 or L1==6:\n",
    "                L1[i]=L1[i]+1\n",
    "            else:\n",
    "                break\n",
    "\n",
    "Input = iter(student_list) \n",
    "Output = [list(islice(Input, j)) for j in L1] \n",
    "print(\"Input list :\", student_list )\n",
    "print(\"output list\", Output)"
   ]
  },
  {
   "cell_type": "markdown",
   "metadata": {},
   "source": [
    "(10) Write a Python program to find the duplicate elements in a given array of integers. Return -1 If there are no such elements. (4 points)"
   ]
  },
  {
   "cell_type": "code",
   "execution_count": 107,
   "metadata": {},
   "outputs": [
    {
     "name": "stdout",
     "output_type": "stream",
     "text": [
      "5\n",
      "7\n",
      "-1\n"
     ]
    }
   ],
   "source": [
    "# write your answer here\n",
    "a=[1,2,3,4,5,5,6,7,7]\n",
    "b=set()\n",
    "w=-1\n",
    "for i in range(0,len(a)):\n",
    "    if a[i] in b:\n",
    "        print(a[i])\n",
    "    else:\n",
    "        b.add(a[i])\n",
    "        \n",
    "        \n",
    "        \n",
    "        \n",
    "print(w)\n",
    "\n",
    "        \n",
    "    "
   ]
  },
  {
   "cell_type": "markdown",
   "metadata": {},
   "source": [
    "(11) Write a Python program to select all the Sundays of a specified year. (4 extra points)"
   ]
  },
  {
   "cell_type": "code",
   "execution_count": 111,
   "metadata": {},
   "outputs": [
    {
     "name": "stdout",
     "output_type": "stream",
     "text": [
      "['02-01-2022', '09-01-2022', '16-01-2022', '23-01-2022', '30-01-2022', '06-02-2022', '13-02-2022', '20-02-2022', '27-02-2022', '06-03-2022', '13-03-2022', '20-03-2022', '27-03-2022', '03-04-2022', '10-04-2022', '17-04-2022', '24-04-2022', '01-05-2022', '08-05-2022', '15-05-2022', '22-05-2022', '29-05-2022', '05-06-2022', '12-06-2022', '19-06-2022', '26-06-2022', '03-07-2022', '10-07-2022', '17-07-2022', '24-07-2022', '31-07-2022', '07-08-2022', '14-08-2022', '21-08-2022', '28-08-2022', '04-09-2022', '11-09-2022', '18-09-2022', '25-09-2022', '02-10-2022', '09-10-2022', '16-10-2022', '23-10-2022', '30-10-2022', '06-11-2022', '13-11-2022', '20-11-2022', '27-11-2022', '04-12-2022', '11-12-2022', '18-12-2022', '25-12-2022', '01-01-2023']\n"
     ]
    }
   ],
   "source": [
    "# write your answer here\n",
    "from datetime import date, timedelta,datetime\n",
    "\n",
    "sunndays = list()\n",
    "\n",
    "year_var = datetime.now()\n",
    "year_var = year_var.year \n",
    "d = date(year_var, 1, 1) \n",
    "d += timedelta(days=6 - d.weekday())\n",
    "sunndays.append(str(d.strftime('%d-%m-%Y')))\n",
    "while d.year == year_var:\n",
    "    d += timedelta(days=7)\n",
    "    sunndays.append(str(d.strftime('%d-%m-%Y')))\n",
    "\n",
    "print(sunndays)"
   ]
  },
  {
   "cell_type": "code",
   "execution_count": null,
   "metadata": {},
   "outputs": [],
   "source": []
  }
 ],
 "metadata": {
  "colab": {
   "collapsed_sections": [],
   "include_colab_link": true,
   "name": "In_class_exercise_01.ipynb",
   "provenance": []
  },
  "kernelspec": {
   "display_name": "Python 3",
   "language": "python",
   "name": "python3"
  },
  "language_info": {
   "codemirror_mode": {
    "name": "ipython",
    "version": 3
   },
   "file_extension": ".py",
   "mimetype": "text/x-python",
   "name": "python",
   "nbconvert_exporter": "python",
   "pygments_lexer": "ipython3",
   "version": "3.8.8"
  }
 },
 "nbformat": 4,
 "nbformat_minor": 4
}
